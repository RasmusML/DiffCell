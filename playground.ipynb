{
 "cells": [
  {
   "cell_type": "code",
   "execution_count": 1,
   "id": "96720fd8",
   "metadata": {},
   "outputs": [],
   "source": [
    "%load_ext autoreload\n",
    "%autoreload 2\n",
    "\n",
    "import sys\n",
    "sys.path.append(\"./code\")"
   ]
  },
  {
   "cell_type": "code",
   "execution_count": 2,
   "id": "3a5165d4",
   "metadata": {},
   "outputs": [],
   "source": [
    "import pandas as pd\n",
    "import matplotlib.pyplot as plt\n",
    "import torch\n",
    "\n",
    "from data import *\n",
    "from plots import *"
   ]
  },
  {
   "cell_type": "code",
   "execution_count": 3,
   "id": "c8a94fd6",
   "metadata": {},
   "outputs": [],
   "source": [
    "metadata = load_metadata()"
   ]
  },
  {
   "cell_type": "code",
   "execution_count": 4,
   "id": "c66ca923",
   "metadata": {},
   "outputs": [
    {
     "data": {
      "text/html": [
       "<div>\n",
       "<style scoped>\n",
       "    .dataframe tbody tr th:only-of-type {\n",
       "        vertical-align: middle;\n",
       "    }\n",
       "\n",
       "    .dataframe tbody tr th {\n",
       "        vertical-align: top;\n",
       "    }\n",
       "\n",
       "    .dataframe thead th {\n",
       "        text-align: right;\n",
       "    }\n",
       "</style>\n",
       "<table border=\"1\" class=\"dataframe\">\n",
       "  <thead>\n",
       "    <tr style=\"text-align: right;\">\n",
       "      <th></th>\n",
       "      <th>Unnamed: 0</th>\n",
       "      <th>Multi_Cell_Image_Id</th>\n",
       "      <th>Multi_Cell_Image_Name</th>\n",
       "      <th>Single_Cell_Image_Id</th>\n",
       "      <th>Single_Cell_Image_Name</th>\n",
       "      <th>TableNumber</th>\n",
       "      <th>ImageNumber</th>\n",
       "      <th>Image_FileName_DAPI</th>\n",
       "      <th>Image_PathName_DAPI</th>\n",
       "      <th>Image_FileName_Tubulin</th>\n",
       "      <th>Image_PathName_Tubulin</th>\n",
       "      <th>Image_FileName_Actin</th>\n",
       "      <th>Image_PathName_Actin</th>\n",
       "      <th>Image_Metadata_Plate_DAPI</th>\n",
       "      <th>Image_Metadata_Well_DAPI</th>\n",
       "      <th>Replicate</th>\n",
       "      <th>Image_Metadata_Compound</th>\n",
       "      <th>Image_Metadata_Concentration</th>\n",
       "      <th>moa</th>\n",
       "    </tr>\n",
       "  </thead>\n",
       "  <tbody>\n",
       "    <tr>\n",
       "      <th>0</th>\n",
       "      <td>0</td>\n",
       "      <td>433</td>\n",
       "      <td>Week10_200907_B02_s1_w18E215662-2CF7-4739-93F3...</td>\n",
       "      <td>0</td>\n",
       "      <td>Week10_200907_B02_s1_w18E215662-2CF7-4739-93F3...</td>\n",
       "      <td>0</td>\n",
       "      <td>1</td>\n",
       "      <td>Week10_200907_B02_s1_w18E215662-2CF7-4739-93F3...</td>\n",
       "      <td>Week10_40111</td>\n",
       "      <td>Week10_200907_B02_s1_w2D492FCE4-15C2-4C66-99A5...</td>\n",
       "      <td>Week10_40111</td>\n",
       "      <td>Week10_200907_B02_s1_w436D0A3BC-098D-4271-B5AA...</td>\n",
       "      <td>Week10_40111</td>\n",
       "      <td>Week10_40111</td>\n",
       "      <td>B02</td>\n",
       "      <td>1</td>\n",
       "      <td>DMSO</td>\n",
       "      <td>0.0</td>\n",
       "      <td>DMSO</td>\n",
       "    </tr>\n",
       "    <tr>\n",
       "      <th>1</th>\n",
       "      <td>1</td>\n",
       "      <td>433</td>\n",
       "      <td>Week10_200907_B02_s1_w18E215662-2CF7-4739-93F3...</td>\n",
       "      <td>1</td>\n",
       "      <td>Week10_200907_B02_s1_w18E215662-2CF7-4739-93F3...</td>\n",
       "      <td>0</td>\n",
       "      <td>1</td>\n",
       "      <td>Week10_200907_B02_s1_w18E215662-2CF7-4739-93F3...</td>\n",
       "      <td>Week10_40111</td>\n",
       "      <td>Week10_200907_B02_s1_w2D492FCE4-15C2-4C66-99A5...</td>\n",
       "      <td>Week10_40111</td>\n",
       "      <td>Week10_200907_B02_s1_w436D0A3BC-098D-4271-B5AA...</td>\n",
       "      <td>Week10_40111</td>\n",
       "      <td>Week10_40111</td>\n",
       "      <td>B02</td>\n",
       "      <td>1</td>\n",
       "      <td>DMSO</td>\n",
       "      <td>0.0</td>\n",
       "      <td>DMSO</td>\n",
       "    </tr>\n",
       "    <tr>\n",
       "      <th>2</th>\n",
       "      <td>2</td>\n",
       "      <td>433</td>\n",
       "      <td>Week10_200907_B02_s1_w18E215662-2CF7-4739-93F3...</td>\n",
       "      <td>2</td>\n",
       "      <td>Week10_200907_B02_s1_w18E215662-2CF7-4739-93F3...</td>\n",
       "      <td>0</td>\n",
       "      <td>1</td>\n",
       "      <td>Week10_200907_B02_s1_w18E215662-2CF7-4739-93F3...</td>\n",
       "      <td>Week10_40111</td>\n",
       "      <td>Week10_200907_B02_s1_w2D492FCE4-15C2-4C66-99A5...</td>\n",
       "      <td>Week10_40111</td>\n",
       "      <td>Week10_200907_B02_s1_w436D0A3BC-098D-4271-B5AA...</td>\n",
       "      <td>Week10_40111</td>\n",
       "      <td>Week10_40111</td>\n",
       "      <td>B02</td>\n",
       "      <td>1</td>\n",
       "      <td>DMSO</td>\n",
       "      <td>0.0</td>\n",
       "      <td>DMSO</td>\n",
       "    </tr>\n",
       "    <tr>\n",
       "      <th>3</th>\n",
       "      <td>3</td>\n",
       "      <td>433</td>\n",
       "      <td>Week10_200907_B02_s1_w18E215662-2CF7-4739-93F3...</td>\n",
       "      <td>3</td>\n",
       "      <td>Week10_200907_B02_s1_w18E215662-2CF7-4739-93F3...</td>\n",
       "      <td>0</td>\n",
       "      <td>1</td>\n",
       "      <td>Week10_200907_B02_s1_w18E215662-2CF7-4739-93F3...</td>\n",
       "      <td>Week10_40111</td>\n",
       "      <td>Week10_200907_B02_s1_w2D492FCE4-15C2-4C66-99A5...</td>\n",
       "      <td>Week10_40111</td>\n",
       "      <td>Week10_200907_B02_s1_w436D0A3BC-098D-4271-B5AA...</td>\n",
       "      <td>Week10_40111</td>\n",
       "      <td>Week10_40111</td>\n",
       "      <td>B02</td>\n",
       "      <td>1</td>\n",
       "      <td>DMSO</td>\n",
       "      <td>0.0</td>\n",
       "      <td>DMSO</td>\n",
       "    </tr>\n",
       "    <tr>\n",
       "      <th>4</th>\n",
       "      <td>4</td>\n",
       "      <td>433</td>\n",
       "      <td>Week10_200907_B02_s1_w18E215662-2CF7-4739-93F3...</td>\n",
       "      <td>4</td>\n",
       "      <td>Week10_200907_B02_s1_w18E215662-2CF7-4739-93F3...</td>\n",
       "      <td>0</td>\n",
       "      <td>1</td>\n",
       "      <td>Week10_200907_B02_s1_w18E215662-2CF7-4739-93F3...</td>\n",
       "      <td>Week10_40111</td>\n",
       "      <td>Week10_200907_B02_s1_w2D492FCE4-15C2-4C66-99A5...</td>\n",
       "      <td>Week10_40111</td>\n",
       "      <td>Week10_200907_B02_s1_w436D0A3BC-098D-4271-B5AA...</td>\n",
       "      <td>Week10_40111</td>\n",
       "      <td>Week10_40111</td>\n",
       "      <td>B02</td>\n",
       "      <td>1</td>\n",
       "      <td>DMSO</td>\n",
       "      <td>0.0</td>\n",
       "      <td>DMSO</td>\n",
       "    </tr>\n",
       "  </tbody>\n",
       "</table>\n",
       "</div>"
      ],
      "text/plain": [
       "   Unnamed: 0  Multi_Cell_Image_Id  \\\n",
       "0           0                  433   \n",
       "1           1                  433   \n",
       "2           2                  433   \n",
       "3           3                  433   \n",
       "4           4                  433   \n",
       "\n",
       "                               Multi_Cell_Image_Name  Single_Cell_Image_Id  \\\n",
       "0  Week10_200907_B02_s1_w18E215662-2CF7-4739-93F3...                     0   \n",
       "1  Week10_200907_B02_s1_w18E215662-2CF7-4739-93F3...                     1   \n",
       "2  Week10_200907_B02_s1_w18E215662-2CF7-4739-93F3...                     2   \n",
       "3  Week10_200907_B02_s1_w18E215662-2CF7-4739-93F3...                     3   \n",
       "4  Week10_200907_B02_s1_w18E215662-2CF7-4739-93F3...                     4   \n",
       "\n",
       "                              Single_Cell_Image_Name  TableNumber  \\\n",
       "0  Week10_200907_B02_s1_w18E215662-2CF7-4739-93F3...            0   \n",
       "1  Week10_200907_B02_s1_w18E215662-2CF7-4739-93F3...            0   \n",
       "2  Week10_200907_B02_s1_w18E215662-2CF7-4739-93F3...            0   \n",
       "3  Week10_200907_B02_s1_w18E215662-2CF7-4739-93F3...            0   \n",
       "4  Week10_200907_B02_s1_w18E215662-2CF7-4739-93F3...            0   \n",
       "\n",
       "   ImageNumber                                Image_FileName_DAPI  \\\n",
       "0            1  Week10_200907_B02_s1_w18E215662-2CF7-4739-93F3...   \n",
       "1            1  Week10_200907_B02_s1_w18E215662-2CF7-4739-93F3...   \n",
       "2            1  Week10_200907_B02_s1_w18E215662-2CF7-4739-93F3...   \n",
       "3            1  Week10_200907_B02_s1_w18E215662-2CF7-4739-93F3...   \n",
       "4            1  Week10_200907_B02_s1_w18E215662-2CF7-4739-93F3...   \n",
       "\n",
       "  Image_PathName_DAPI                             Image_FileName_Tubulin  \\\n",
       "0        Week10_40111  Week10_200907_B02_s1_w2D492FCE4-15C2-4C66-99A5...   \n",
       "1        Week10_40111  Week10_200907_B02_s1_w2D492FCE4-15C2-4C66-99A5...   \n",
       "2        Week10_40111  Week10_200907_B02_s1_w2D492FCE4-15C2-4C66-99A5...   \n",
       "3        Week10_40111  Week10_200907_B02_s1_w2D492FCE4-15C2-4C66-99A5...   \n",
       "4        Week10_40111  Week10_200907_B02_s1_w2D492FCE4-15C2-4C66-99A5...   \n",
       "\n",
       "  Image_PathName_Tubulin                               Image_FileName_Actin  \\\n",
       "0           Week10_40111  Week10_200907_B02_s1_w436D0A3BC-098D-4271-B5AA...   \n",
       "1           Week10_40111  Week10_200907_B02_s1_w436D0A3BC-098D-4271-B5AA...   \n",
       "2           Week10_40111  Week10_200907_B02_s1_w436D0A3BC-098D-4271-B5AA...   \n",
       "3           Week10_40111  Week10_200907_B02_s1_w436D0A3BC-098D-4271-B5AA...   \n",
       "4           Week10_40111  Week10_200907_B02_s1_w436D0A3BC-098D-4271-B5AA...   \n",
       "\n",
       "  Image_PathName_Actin Image_Metadata_Plate_DAPI Image_Metadata_Well_DAPI  \\\n",
       "0         Week10_40111              Week10_40111                      B02   \n",
       "1         Week10_40111              Week10_40111                      B02   \n",
       "2         Week10_40111              Week10_40111                      B02   \n",
       "3         Week10_40111              Week10_40111                      B02   \n",
       "4         Week10_40111              Week10_40111                      B02   \n",
       "\n",
       "   Replicate Image_Metadata_Compound  Image_Metadata_Concentration   moa  \n",
       "0          1                    DMSO                           0.0  DMSO  \n",
       "1          1                    DMSO                           0.0  DMSO  \n",
       "2          1                    DMSO                           0.0  DMSO  \n",
       "3          1                    DMSO                           0.0  DMSO  \n",
       "4          1                    DMSO                           0.0  DMSO  "
      ]
     },
     "execution_count": 4,
     "metadata": {},
     "output_type": "execute_result"
    }
   ],
   "source": [
    "metadata.head()"
   ]
  },
  {
   "cell_type": "code",
   "execution_count": 5,
   "id": "8a38a10d",
   "metadata": {},
   "outputs": [
    {
     "data": {
      "text/plain": [
       "torch.Size([4, 3, 68, 68])"
      ]
     },
     "execution_count": 5,
     "metadata": {},
     "output_type": "execute_result"
    }
   ],
   "source": [
    "r = metadata.loc[44371]\n",
    "images = load_images_from_metadata(pd.DataFrame([r,r,r,r]))\n",
    "images.shape"
   ]
  },
  {
   "cell_type": "code",
   "execution_count": 6,
   "id": "f0b21de7",
   "metadata": {},
   "outputs": [],
   "source": [
    "img1 = images[0]\n",
    "img1 = normalize(img1)"
   ]
  },
  {
   "cell_type": "code",
   "execution_count": 7,
   "id": "4e056b8d",
   "metadata": {},
   "outputs": [
    {
     "data": {
      "image/png": "[encoded data removed]",
      "text/plain": [
       "<Figure size 640x480 with 1 Axes>"
      ]
     },
     "metadata": {},
     "output_type": "display_data"
    }
   ],
   "source": [
    "plot_image(img1)"
   ]
  },
  {
   "cell_type": "code",
   "execution_count": 8,
   "id": "04e0ca45",
   "metadata": {},
   "outputs": [
    {
     "data": {
      "image/png": "[encoded data removed]",
      "text/plain": [
       "<Figure size 1600x600 with 3 Axes>"
      ]
     },
     "metadata": {},
     "output_type": "display_data"
    }
   ],
   "source": [
    "plot_channels(img1)"
   ]
  },
  {
   "cell_type": "code",
   "execution_count": null,
   "id": "d36d1db6",
   "metadata": {},
   "outputs": [],
   "source": []
  }
 ],
 "metadata": {
  "kernelspec": {
   "display_name": "Python 3 (ipykernel)",
   "language": "python",
   "name": "python3"
  },
  "language_info": {
   "codemirror_mode": {
    "name": "ipython",
    "version": 3
   },
   "file_extension": ".py",
   "mimetype": "text/x-python",
   "name": "python",
   "nbconvert_exporter": "python",
   "pygments_lexer": "ipython3",
   "version": "3.10.4"
  }
 },
 "nbformat": 4,
 "nbformat_minor": 5
}
