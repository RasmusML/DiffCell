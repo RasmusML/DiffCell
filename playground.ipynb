{
 "cells": [
  {
   "cell_type": "markdown",
   "id": "849bcefc",
   "metadata": {},
   "source": [
    "# Playground"
   ]
  },
  {
   "cell_type": "code",
   "execution_count": 1,
   "id": "96720fd8",
   "metadata": {},
   "outputs": [],
   "source": [
    "%reload_ext autoreload\n",
    "%autoreload 2\n",
    "\n",
    "import sys\n",
    "sys.path.append(\"./src\")"
   ]
  },
  {
   "cell_type": "code",
   "execution_count": 2,
   "id": "3a5165d4",
   "metadata": {},
   "outputs": [],
   "source": [
    "import pandas as pd\n",
    "import matplotlib.pyplot as plt\n",
    "import seaborn as sns\n",
    "import torch\n",
    "from torch import nn\n",
    "from torch.utils.data import DataLoader\n",
    "\n",
    "from dataset import *\n",
    "from plots import *\n",
    "from models import *"
   ]
  },
  {
   "cell_type": "markdown",
   "id": "0889b6a4",
   "metadata": {},
   "source": [
    "## Metadata Summary"
   ]
  },
  {
   "cell_type": "code",
   "execution_count": null,
   "id": "199631dc",
   "metadata": {},
   "outputs": [],
   "source": [
    "metadata = load_metadata()"
   ]
  },
  {
   "cell_type": "code",
   "execution_count": null,
   "id": "e1d594d0",
   "metadata": {},
   "outputs": [],
   "source": [
    "metadata.head()"
   ]
  },
  {
   "cell_type": "code",
   "execution_count": null,
   "id": "7f1e19cb",
   "metadata": {},
   "outputs": [],
   "source": [
    "metadata.shape"
   ]
  },
  {
   "cell_type": "code",
   "execution_count": null,
   "id": "8930e808",
   "metadata": {},
   "outputs": [],
   "source": [
    "plot_MOA_distribution(metadata)"
   ]
  },
  {
   "cell_type": "code",
   "execution_count": null,
   "id": "161a1057",
   "metadata": {},
   "outputs": [],
   "source": [
    "plot_treatment_heatmap(metadata)"
   ]
  },
  {
   "cell_type": "markdown",
   "id": "e72d6ac8",
   "metadata": {},
   "source": [
    "## Tiny - Subset of Dataset"
   ]
  },
  {
   "cell_type": "code",
   "execution_count": null,
   "id": "5c06dd64",
   "metadata": {},
   "outputs": [],
   "source": [
    "tiny_metadata = metadata[metadata[\"Multi_Cell_Image_Name\"] == \"Week10_200907_F02_s1_w14631241C-4FA2-4BC9-8693-D7D268CAEE82\"]\n",
    "#tiny_metadata = metadata[metadata[\"Multi_Cell_Image_Name\"] == \"B02_s1_w16F89C55C-7808-4136-82E4-E066F8E3CB10\"]"
   ]
  },
  {
   "cell_type": "code",
   "execution_count": null,
   "id": "0767cd54",
   "metadata": {},
   "outputs": [],
   "source": [
    "images = load_images_from_metadata(tiny_metadata)\n",
    "images = normalize_channel_wise(images)\n",
    "\n",
    "print(f\"{images.shape[0]} images\")"
   ]
  },
  {
   "cell_type": "code",
   "execution_count": null,
   "id": "054d466d",
   "metadata": {},
   "outputs": [],
   "source": [
    "plot_treatment_heatmap(tiny_metadata)"
   ]
  },
  {
   "cell_type": "code",
   "execution_count": null,
   "id": "c5d1dfca",
   "metadata": {},
   "outputs": [],
   "source": [
    "img1 = images[0]"
   ]
  },
  {
   "cell_type": "code",
   "execution_count": null,
   "id": "4c25111a",
   "metadata": {},
   "outputs": [],
   "source": [
    "plot_image(img1)"
   ]
  },
  {
   "cell_type": "code",
   "execution_count": null,
   "id": "6f8b3888",
   "metadata": {},
   "outputs": [],
   "source": [
    "plot_channels(img1)"
   ]
  },
  {
   "cell_type": "markdown",
   "id": "9b1209e4",
   "metadata": {},
   "source": [
    "## Stratified - Subset of Dataset"
   ]
  },
  {
   "cell_type": "code",
   "execution_count": null,
   "id": "f4bcf5cb",
   "metadata": {},
   "outputs": [],
   "source": [
    "blacklist = [(\"Eg5 inhibitors\", 0.1), (\"Microtubule destabilizers\", 0.3), (\"Cholesterol-lowering\", 6.0)]\n",
    "stratified = stratify_metadata(metadata, 60, blacklist=blacklist)"
   ]
  },
  {
   "cell_type": "code",
   "execution_count": null,
   "id": "a325aa59",
   "metadata": {},
   "outputs": [],
   "source": [
    "images = load_images_from_metadata(stratified)\n",
    "images = normalize_channel_wise(images)\n",
    "\n",
    "print(f\"{images.shape[0]} images\")"
   ]
  },
  {
   "cell_type": "code",
   "execution_count": null,
   "id": "370fc80a",
   "metadata": {},
   "outputs": [],
   "source": [
    "plot_treatment_heatmap(stratified)"
   ]
  },
  {
   "cell_type": "markdown",
   "id": "eb26acb3",
   "metadata": {},
   "source": [
    "## Model - Training"
   ]
  },
  {
   "cell_type": "code",
   "execution_count": null,
   "id": "d15c33dd",
   "metadata": {},
   "outputs": [],
   "source": [
    "images = normalized_to_zscore(images)"
   ]
  },
  {
   "cell_type": "code",
   "execution_count": null,
   "id": "e0154108",
   "metadata": {},
   "outputs": [],
   "source": [
    "print(f\"{images.shape[0]} images\")"
   ]
  },
  {
   "cell_type": "code",
   "execution_count": null,
   "id": "bb36dfcc",
   "metadata": {},
   "outputs": [],
   "source": [
    "cropped_images = view_cropped_images(images)\n",
    "train(cropped_images, epochs=20, epoch_sample_times=2)"
   ]
  },
  {
   "cell_type": "markdown",
   "id": "177b9138",
   "metadata": {},
   "source": [
    "## Model - Load pretrained"
   ]
  },
  {
   "cell_type": "code",
   "execution_count": null,
   "id": "3a3d64cd",
   "metadata": {},
   "outputs": [],
   "source": [
    "unet = UNet()\n",
    "unet.load_state_dict(torch.load(\"./models/DDPM_Unconditional/ckpt.pt\"))\n",
    "diffusion = Diffusion()\n",
    "sampled_images = diffusion.sample(unet, n=1)"
   ]
  },
  {
   "cell_type": "markdown",
   "id": "b2df25a0",
   "metadata": {},
   "source": [
    "## Results"
   ]
  },
  {
   "cell_type": "code",
   "execution_count": null,
   "id": "fcd797f9",
   "metadata": {},
   "outputs": [],
   "source": [
    "epoch_images, epochs = load_epoch_images()\n",
    "plot_epoch_sample_series(epoch_images, epochs)"
   ]
  },
  {
   "cell_type": "code",
   "execution_count": null,
   "id": "a6fa4180",
   "metadata": {},
   "outputs": [],
   "source": [
    "plot_image(epoch_images[-1][0])"
   ]
  },
  {
   "cell_type": "code",
   "execution_count": null,
   "id": "de96e500",
   "metadata": {},
   "outputs": [],
   "source": []
  }
 ],
 "metadata": {
  "kernelspec": {
   "display_name": "Python 3 (ipykernel)",
   "language": "python",
   "name": "python3"
  },
  "language_info": {
   "codemirror_mode": {
    "name": "ipython",
    "version": 3
   },
   "file_extension": ".py",
   "mimetype": "text/x-python",
   "name": "python",
   "nbconvert_exporter": "python",
   "pygments_lexer": "ipython3",
   "version": "3.10.4"
  }
 },
 "nbformat": 4,
 "nbformat_minor": 5
}
