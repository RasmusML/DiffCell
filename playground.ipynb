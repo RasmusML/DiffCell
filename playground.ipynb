{
 "cells": [
  {
   "cell_type": "markdown",
   "id": "849bcefc",
   "metadata": {},
   "source": [
    "# Playground"
   ]
  },
  {
   "cell_type": "code",
   "execution_count": null,
   "id": "96720fd8",
   "metadata": {},
   "outputs": [],
   "source": [
    "%reload_ext autoreload\n",
    "%autoreload 2\n",
    "\n",
    "import sys\n",
    "sys.path.append(\"./code\")"
   ]
  },
  {
   "cell_type": "code",
   "execution_count": null,
   "id": "3a5165d4",
   "metadata": {},
   "outputs": [],
   "source": [
    "import pandas as pd\n",
    "import matplotlib.pyplot as plt\n",
    "import seaborn as sns\n",
    "import torch\n",
    "from torch import nn\n",
    "from torch.utils.data import DataLoader, TensorDataset\n",
    "\n",
    "import logging\n",
    "logging.basicConfig(format=\"%(asctime)s - %(levelname)s: %(message)s\", level=logging.DEBUG, datefmt=\"%I:%M:%S\")\n",
    "\n",
    "from dataset import *\n",
    "from plots import *\n",
    "from models import *\n",
    "from utils import *\n",
    "\n",
    "fix_seed()"
   ]
  },
  {
   "cell_type": "markdown",
   "id": "0889b6a4",
   "metadata": {},
   "source": [
    "## Metadata Summary"
   ]
  },
  {
   "cell_type": "code",
   "execution_count": null,
   "id": "199631dc",
   "metadata": {},
   "outputs": [],
   "source": [
    "metadata = load_metadata()"
   ]
  },
  {
   "cell_type": "code",
   "execution_count": null,
   "id": "e1d594d0",
   "metadata": {},
   "outputs": [],
   "source": [
    "metadata.head()"
   ]
  },
  {
   "cell_type": "code",
   "execution_count": null,
   "id": "7f1e19cb",
   "metadata": {},
   "outputs": [],
   "source": [
    "metadata.shape"
   ]
  },
  {
   "cell_type": "code",
   "execution_count": null,
   "id": "8930e808",
   "metadata": {},
   "outputs": [],
   "source": [
    "plot_MOA_distribution(metadata)"
   ]
  },
  {
   "cell_type": "code",
   "execution_count": null,
   "id": "161a1057",
   "metadata": {},
   "outputs": [],
   "source": [
    "plot_treatment_heatmap(metadata)"
   ]
  },
  {
   "cell_type": "markdown",
   "id": "e72d6ac8",
   "metadata": {},
   "source": [
    "## Tiny - Subset of Dataset"
   ]
  },
  {
   "cell_type": "code",
   "execution_count": null,
   "id": "5c06dd64",
   "metadata": {},
   "outputs": [],
   "source": [
    "tiny_metadata = metadata[metadata[\"Multi_Cell_Image_Name\"] == \"Week10_200907_F02_s1_w14631241C-4FA2-4BC9-8693-D7D268CAEE82\"]\n",
    "#tiny_metadata = metadata[metadata[\"Multi_Cell_Image_Name\"] == \"B02_s1_w16F89C55C-7808-4136-82E4-E066F8E3CB10\"]\n",
    "\n",
    "tiny_images = load_images_from_metadata(tiny_metadata)\n",
    "print(f\"{tiny_metadata.shape[0]} images\")"
   ]
  },
  {
   "cell_type": "code",
   "execution_count": null,
   "id": "054d466d",
   "metadata": {},
   "outputs": [],
   "source": [
    "plot_treatment_heatmap(tiny_metadata)"
   ]
  },
  {
   "cell_type": "markdown",
   "id": "9b1209e4",
   "metadata": {},
   "source": [
    "## Stratified - Subset of Dataset"
   ]
  },
  {
   "cell_type": "code",
   "execution_count": null,
   "id": "f4bcf5cb",
   "metadata": {},
   "outputs": [],
   "source": [
    "blacklist = [(\"Eg5 inhibitors\", 0.1), (\"Microtubule destabilizers\", 0.3), (\"Cholesterol-lowering\", 6.0)]\n",
    "stratified_metadata = stratify_metadata(metadata, 60, blacklist=blacklist)\n",
    "\n",
    "stratified_images = load_images_from_metadata(stratified_metadata)\n",
    "print(f\"{stratified_images.shape[0]} images\")"
   ]
  },
  {
   "cell_type": "code",
   "execution_count": null,
   "id": "370fc80a",
   "metadata": {},
   "outputs": [],
   "source": [
    "plot_treatment_heatmap(stratified_metadata)"
   ]
  },
  {
   "cell_type": "markdown",
   "id": "eb26acb3",
   "metadata": {},
   "source": [
    "## Model - Training"
   ]
  },
  {
   "cell_type": "code",
   "execution_count": null,
   "id": "d15c33dd",
   "metadata": {},
   "outputs": [],
   "source": [
    "train_images = tiny_images\n",
    "train_metadata = tiny_metadata\n",
    "\n",
    "train_images = normalize_channel_wise(train_images)"
   ]
  },
  {
   "cell_type": "code",
   "execution_count": null,
   "id": "65cabbf7",
   "metadata": {},
   "outputs": [],
   "source": [
    "img1 = train_images[0]"
   ]
  },
  {
   "cell_type": "code",
   "execution_count": null,
   "id": "4ee2cd1a",
   "metadata": {},
   "outputs": [],
   "source": [
    "plot_image(img1)"
   ]
  },
  {
   "cell_type": "code",
   "execution_count": null,
   "id": "524bb673",
   "metadata": {},
   "outputs": [],
   "source": [
    "plot_channels(img1)"
   ]
  },
  {
   "cell_type": "code",
   "execution_count": null,
   "id": "ecba5870",
   "metadata": {},
   "outputs": [],
   "source": [
    "train_images = normalized_to_zscore(train_images)\n",
    "train_images = view_cropped_images(train_images)"
   ]
  },
  {
   "cell_type": "code",
   "execution_count": null,
   "id": "bb36dfcc",
   "metadata": {},
   "outputs": [],
   "source": [
    "train_conditional_diffusion_model(train_metadata, train_images, epochs=20, epoch_sample_times=2, batch_size=2)"
   ]
  },
  {
   "cell_type": "markdown",
   "id": "177b9138",
   "metadata": {},
   "source": [
    "## Model - Load pretrained"
   ]
  },
  {
   "cell_type": "code",
   "execution_count": null,
   "id": "3a3d64cd",
   "metadata": {},
   "outputs": [],
   "source": [
    "unet = UNet()\n",
    "unet.load_state_dict(torch.load(\"./models/DDPM_Unconditional/ckpt.pt\"))\n",
    "diffusion = Diffusion()\n",
    "sampled_images = diffusion.sample(unet, n=1)"
   ]
  },
  {
   "cell_type": "markdown",
   "id": "b2df25a0",
   "metadata": {},
   "source": [
    "## Results"
   ]
  },
  {
   "cell_type": "code",
   "execution_count": null,
   "id": "fcd797f9",
   "metadata": {},
   "outputs": [],
   "source": [
    "epoch_images, epochs = load_epoch_images(\"./results/DDPM_Conditional/\")\n",
    "plot_epoch_sample_series(epoch_images, epochs)"
   ]
  },
  {
   "cell_type": "code",
   "execution_count": null,
   "id": "a6fa4180",
   "metadata": {},
   "outputs": [],
   "source": [
    "plot_image(epoch_images[-1][0])"
   ]
  },
  {
   "cell_type": "code",
   "execution_count": null,
   "id": "527d37a6",
   "metadata": {},
   "outputs": [],
   "source": []
  }
 ],
 "metadata": {
  "kernelspec": {
   "display_name": "Python 3 (ipykernel)",
   "language": "python",
   "name": "python3"
  },
  "language_info": {
   "codemirror_mode": {
    "name": "ipython",
    "version": 3
   },
   "file_extension": ".py",
   "mimetype": "text/x-python",
   "name": "python",
   "nbconvert_exporter": "python",
   "pygments_lexer": "ipython3",
   "version": "3.10.4"
  }
 },
 "nbformat": 4,
 "nbformat_minor": 5
}
